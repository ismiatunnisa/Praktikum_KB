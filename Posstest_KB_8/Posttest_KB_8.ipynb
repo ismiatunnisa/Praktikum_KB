{
 "cells": [
  {
   "cell_type": "markdown",
   "id": "08f136cb-d27e-4e86-b0e9-045068ae1724",
   "metadata": {},
   "source": [
    "## Import Library"
   ]
  },
  {
   "cell_type": "code",
   "execution_count": 18,
   "id": "5a58e01b-4075-4aeb-86dd-ab2a333d5326",
   "metadata": {},
   "outputs": [],
   "source": [
    "import tensorflow as tf\n",
    "import matplotlib.pyplot as plt\n",
    "import numpy as np\n",
    "import os\n",
    "\n",
    "from tensorflow import keras\n",
    "from tensorflow.keras import layers,optimizers,datasets\n",
    "from tensorflow.keras import Sequential\n",
    "from tensorflow.keras.layers import Dense\n",
    "import tensorflow.keras.datasets as tfds\n",
    "\n",
    "import warnings\n",
    "warnings.filterwarnings('ignore')"
   ]
  },
  {
   "cell_type": "markdown",
   "id": "716ceda2-102d-4f4a-af87-797d1d182b28",
   "metadata": {},
   "source": [
    "#### DNN - Simple Regression\n",
    "##### membuat data"
   ]
  },
  {
   "cell_type": "code",
   "execution_count": 3,
   "id": "4d051bb0-6e57-47cb-ab80-8c0cbc8c07b2",
   "metadata": {},
   "outputs": [],
   "source": [
    "x = np.array([1,2,3,4,5,6],dtype = float)\n",
    "y = np.array([2,3,4,8,10,12],dtype= float)"
   ]
  },
  {
   "cell_type": "markdown",
   "id": "074ca21d-79da-42b0-a0ba-75f1a165cb4c",
   "metadata": {},
   "source": [
    "##### visualisasi scatter"
   ]
  },
  {
   "cell_type": "code",
   "execution_count": 5,
   "id": "19ded6c8-5147-4847-b22b-21483d8de19e",
   "metadata": {},
   "outputs": [
    {
     "data": {
      "image/png": "[encoded data removed]",
      "text/plain": [
       "<Figure size 640x480 with 1 Axes>"
      ]
     },
     "metadata": {},
     "output_type": "display_data"
    }
   ],
   "source": [
    "plt.scatter(x, y)\n",
    "plt.show()"
   ]
  },
  {
   "cell_type": "markdown",
   "id": "96e9e03d-91cc-41d9-91f7-de72e050e1bc",
   "metadata": {},
   "source": [
    "## Membuat Model Sequential\n",
    "\n",
    "#### Tahap Modeling\n",
    "1. arsitektur\n",
    "2. konfigurasi\n",
    "3. model training"
   ]
  },
  {
   "cell_type": "code",
   "execution_count": 7,
   "id": "1bb3a345-fcb2-44aa-aec9-73f8b109df7f",
   "metadata": {},
   "outputs": [],
   "source": [
    "#membuat model\n",
    "model = tf.keras.Sequential([\n",
    "    tf.keras.layers.Dense(units=1, input_shape=[1])\n",
    "])"
   ]
  },
  {
   "cell_type": "code",
   "execution_count": 9,
   "id": "01935a18-2aa1-420b-8cbf-dee71d523f6d",
   "metadata": {},
   "outputs": [],
   "source": [
    "#konfigurasi model\n",
    "model.compile(\n",
    "    optimizer='adam', \n",
    "    loss='mae'\n",
    ")"
   ]
  },
  {
   "cell_type": "code",
   "execution_count": 17,
   "id": "5ea59bd8-1677-434b-b59b-0a1bc996df15",
   "metadata": {},
   "outputs": [
    {
     "name": "stdout",
     "output_type": "stream",
     "text": [
      "Epoch 1/30\n",
      "20/20 [==============================] - 0s 2ms/step - loss: 0.7483\n",
      "Epoch 2/30\n",
      "20/20 [==============================] - 0s 2ms/step - loss: 0.8038\n",
      "Epoch 3/30\n",
      "20/20 [==============================] - 0s 2ms/step - loss: 0.8321\n",
      "Epoch 4/30\n",
      "20/20 [==============================] - 0s 2ms/step - loss: 0.8305\n",
      "Epoch 5/30\n",
      "20/20 [==============================] - 0s 2ms/step - loss: 0.6473\n",
      "Epoch 6/30\n",
      "20/20 [==============================] - 0s 2ms/step - loss: 0.8853\n",
      "Epoch 7/30\n",
      "20/20 [==============================] - 0s 2ms/step - loss: 0.7423\n",
      "Epoch 8/30\n",
      "20/20 [==============================] - 0s 2ms/step - loss: 0.8623\n",
      "Epoch 9/30\n",
      "20/20 [==============================] - 0s 2ms/step - loss: 0.7377\n",
      "Epoch 10/30\n",
      "WARNING:tensorflow:Your input ran out of data; interrupting training. Make sure that your dataset or generator can generate at least `steps_per_epoch * epochs` batches (in this case, 600 batches). You may need to use the repeat() function when building your dataset.\n",
      "20/20 [==============================] - 0s 1ms/step - loss: 0.7377\n"
     ]
    },
    {
     "data": {
      "text/plain": [
       "<keras.callbacks.History at 0x23145566e30>"
      ]
     },
     "execution_count": 17,
     "metadata": {},
     "output_type": "execute_result"
    }
   ],
   "source": [
    "#modeling data\n",
    "model.fit(\n",
    "    x, y,\n",
    "    epochs=30, #perulangan model\n",
    "    steps_per_epoch=20\n",
    ")"
   ]
  },
  {
   "cell_type": "markdown",
   "id": "c895c80b-4680-45f4-8877-6b14384d9d89",
   "metadata": {},
   "source": [
    "#### DNN - MNIST Regression"
   ]
  },
  {
   "cell_type": "code",
   "execution_count": 24,
   "id": "01c0be50-abcf-4f25-a390-09185dfd5ea7",
   "metadata": {},
   "outputs": [],
   "source": [
    "#load dataset\n",
    "(x_train, y_train),(x_test, y_test) = tfds.mnist.load_data()"
   ]
  },
  {
   "cell_type": "code",
   "execution_count": 25,
   "id": "6f5ef22b-5229-4a45-9cb4-1e66d64861b5",
   "metadata": {},
   "outputs": [
    {
     "name": "stdout",
     "output_type": "stream",
     "text": [
      "5\n",
      "(60000, 28, 28)\n",
      "(10000, 28, 28)\n"
     ]
    }
   ],
   "source": [
    "print(y_train[0])\n",
    "print(x_train.shape)\n",
    "print(x_test.shape)"
   ]
  },
  {
   "cell_type": "code",
   "execution_count": 26,
   "id": "85c05cdc-e51a-4a37-ae58-18b5082ab7e3",
   "metadata": {},
   "outputs": [],
   "source": [
    "num_class = len(np.unique(y_train))\n",
    "y_train = tf.keras.utils.to_categorical(y_train, num_class)\n",
    "y_test = tf.keras.utils.to_categorical(y_test, num_class)"
   ]
  },
  {
   "cell_type": "code",
   "execution_count": 27,
   "id": "e6fcfd82-2444-4567-9be9-7fe5ae1f7e58",
   "metadata": {},
   "outputs": [
    {
     "data": {
      "image/png": "[encoded data removed]",
      "text/plain": [
       "<Figure size 640x480 with 3 Axes>"
      ]
     },
     "metadata": {},
     "output_type": "display_data"
    }
   ],
   "source": [
    "plt.figure()\n",
    "for i in range(3):\n",
    "    plt.subplot(3,3,i+1)\n",
    "    plt.imshow(x_train[i])\n",
    "    plt.axis('off')\n",
    "plt.show()"
   ]
  },
  {
   "cell_type": "markdown",
   "id": "f5da2ad6-1507-4819-b970-1b72501ce4cb",
   "metadata": {},
   "source": [
    "#### Normalisasi"
   ]
  },
  {
   "cell_type": "code",
   "execution_count": 121,
   "id": "95d702dc-acff-4e48-9b22-2fbfcace27af",
   "metadata": {},
   "outputs": [],
   "source": [
    "x_train = tf.reshape(x_train,[60000, 784])\n",
    "x_test = tf.reshape(x_test,[10000, 784])"
   ]
  },
  {
   "cell_type": "code",
   "execution_count": 39,
   "id": "a0bc3295-fecf-4c9f-85b1-0d5bb1f075b9",
   "metadata": {},
   "outputs": [
    {
     "data": {
      "text/plain": [
       "tensorflow.python.framework.ops.EagerTensor"
      ]
     },
     "execution_count": 39,
     "metadata": {},
     "output_type": "execute_result"
    }
   ],
   "source": [
    "type(x_train)"
   ]
  },
  {
   "cell_type": "code",
   "execution_count": 41,
   "id": "f3d77e76-df77-4aa3-9d4c-ef2326b03b9c",
   "metadata": {},
   "outputs": [],
   "source": [
    "x_train = tf.cast(x_train, tf.float32)/255\n",
    "x_test = tf.cast(x_test, tf.float32)/255"
   ]
  },
  {
   "cell_type": "markdown",
   "id": "bd797494-2c19-498c-bf73-d27b560c8916",
   "metadata": {},
   "source": [
    "#### Membuat Model"
   ]
  },
  {
   "cell_type": "code",
   "execution_count": 61,
   "id": "0c75e039-b87c-472b-938d-a64ab82fcdf5",
   "metadata": {},
   "outputs": [
    {
     "name": "stdout",
     "output_type": "stream",
     "text": [
      "Model: \"sequential_7\"\n",
      "_________________________________________________________________\n",
      " Layer (type)                Output Shape              Param #   \n",
      "=================================================================\n",
      " dense_19 (Dense)            (None, 32)                25120     \n",
      "                                                                 \n",
      " dense_20 (Dense)            (None, 32)                1056      \n",
      "                                                                 \n",
      " dense_21 (Dense)            (None, 10)                330       \n",
      "                                                                 \n",
      "=================================================================\n",
      "Total params: 26,506\n",
      "Trainable params: 26,506\n",
      "Non-trainable params: 0\n",
      "_________________________________________________________________\n"
     ]
    }
   ],
   "source": [
    "#arsitektur\n",
    "model = tf.keras.Sequential([\n",
    "    tf.keras.layers.Dense(32, activation='relu', input_dim = 784),#layer\n",
    "    tf.keras.layers.Dense(32, activation='relu'),\n",
    "    tf.keras.layers.Dense(num_class, activation='softmax')\n",
    "])\n",
    "model.summary()"
   ]
  },
  {
   "cell_type": "markdown",
   "id": "7bb37ad4-f79b-4301-85ce-ff4ea10f4fca",
   "metadata": {},
   "source": [
    "#### Konfigurasi Model"
   ]
  },
  {
   "cell_type": "code",
   "execution_count": 62,
   "id": "7cdf878a-48d2-46ff-a3d0-cb3e55c14c51",
   "metadata": {},
   "outputs": [],
   "source": [
    "#konfigurasi\n",
    "model.compile(\n",
    "    optimizer = tf.keras.optimizers.Adam(), #adam(learning_rate=1e-4)\n",
    "    loss = tf.keras.losses.categorical_crossentropy,\n",
    "    metrics = ['accuracy']\n",
    ")"
   ]
  },
  {
   "cell_type": "markdown",
   "id": "3abde432-7f66-4824-a2dc-4d77b0433e61",
   "metadata": {},
   "source": [
    "#### Training Model"
   ]
  },
  {
   "cell_type": "code",
   "execution_count": 63,
   "id": "a2f049dc-96c2-478a-9329-ff4a913cf353",
   "metadata": {},
   "outputs": [
    {
     "name": "stdout",
     "output_type": "stream",
     "text": [
      "Epoch 1/30\n",
      "25/25 - 1s - loss: 2.2999 - accuracy: 0.1912 - val_loss: 2.2958 - val_accuracy: 0.1986 - 1s/epoch - 48ms/step\n",
      "Epoch 2/30\n",
      "25/25 - 0s - loss: 2.2901 - accuracy: 0.1919 - val_loss: 2.2811 - val_accuracy: 0.2416 - 302ms/epoch - 12ms/step\n",
      "Epoch 3/30\n",
      "25/25 - 0s - loss: 2.2689 - accuracy: 0.2766 - val_loss: 2.2536 - val_accuracy: 0.2544 - 303ms/epoch - 12ms/step\n",
      "Epoch 4/30\n",
      "25/25 - 0s - loss: 2.2338 - accuracy: 0.2606 - val_loss: 2.2038 - val_accuracy: 0.2852 - 304ms/epoch - 12ms/step\n",
      "Epoch 5/30\n",
      "25/25 - 0s - loss: 2.1764 - accuracy: 0.2809 - val_loss: 2.1319 - val_accuracy: 0.3012 - 310ms/epoch - 12ms/step\n",
      "Epoch 6/30\n",
      "25/25 - 0s - loss: 2.0968 - accuracy: 0.2959 - val_loss: 2.0362 - val_accuracy: 0.3185 - 313ms/epoch - 13ms/step\n",
      "Epoch 7/30\n",
      "25/25 - 0s - loss: 1.9935 - accuracy: 0.3222 - val_loss: 1.9257 - val_accuracy: 0.3471 - 310ms/epoch - 12ms/step\n",
      "Epoch 8/30\n",
      "25/25 - 0s - loss: 1.8741 - accuracy: 0.3650 - val_loss: 1.8117 - val_accuracy: 0.3846 - 316ms/epoch - 13ms/step\n",
      "Epoch 9/30\n",
      "25/25 - 0s - loss: 1.7510 - accuracy: 0.4025 - val_loss: 1.7009 - val_accuracy: 0.4298 - 343ms/epoch - 14ms/step\n",
      "Epoch 10/30\n",
      "25/25 - 0s - loss: 1.6762 - accuracy: 0.4322 - val_loss: 1.6025 - val_accuracy: 0.4919 - 348ms/epoch - 14ms/step\n",
      "Epoch 11/30\n",
      "25/25 - 0s - loss: 1.5640 - accuracy: 0.4969 - val_loss: 1.5138 - val_accuracy: 0.5326 - 343ms/epoch - 14ms/step\n",
      "Epoch 12/30\n",
      "25/25 - 0s - loss: 1.4895 - accuracy: 0.5278 - val_loss: 1.4384 - val_accuracy: 0.5599 - 324ms/epoch - 13ms/step\n",
      "Epoch 13/30\n",
      "25/25 - 0s - loss: 1.4041 - accuracy: 0.5537 - val_loss: 1.3740 - val_accuracy: 0.5653 - 308ms/epoch - 12ms/step\n",
      "Epoch 14/30\n",
      "25/25 - 0s - loss: 1.3648 - accuracy: 0.5522 - val_loss: 1.3209 - val_accuracy: 0.5911 - 308ms/epoch - 12ms/step\n",
      "Epoch 15/30\n",
      "25/25 - 0s - loss: 1.3130 - accuracy: 0.5769 - val_loss: 1.2694 - val_accuracy: 0.6109 - 331ms/epoch - 13ms/step\n",
      "Epoch 16/30\n",
      "25/25 - 0s - loss: 1.2575 - accuracy: 0.6022 - val_loss: 1.2258 - val_accuracy: 0.6219 - 335ms/epoch - 13ms/step\n",
      "Epoch 17/30\n",
      "25/25 - 0s - loss: 1.2224 - accuracy: 0.6078 - val_loss: 1.1857 - val_accuracy: 0.6327 - 334ms/epoch - 13ms/step\n",
      "Epoch 18/30\n",
      "25/25 - 0s - loss: 1.1949 - accuracy: 0.6275 - val_loss: 1.1485 - val_accuracy: 0.6391 - 343ms/epoch - 14ms/step\n",
      "Epoch 19/30\n",
      "25/25 - 0s - loss: 1.1240 - accuracy: 0.6503 - val_loss: 1.1126 - val_accuracy: 0.6568 - 331ms/epoch - 13ms/step\n",
      "Epoch 20/30\n",
      "25/25 - 0s - loss: 1.1205 - accuracy: 0.6369 - val_loss: 1.0802 - val_accuracy: 0.6687 - 339ms/epoch - 14ms/step\n",
      "Epoch 21/30\n",
      "25/25 - 0s - loss: 1.0685 - accuracy: 0.6656 - val_loss: 1.0491 - val_accuracy: 0.6762 - 307ms/epoch - 12ms/step\n",
      "Epoch 22/30\n",
      "25/25 - 0s - loss: 1.0244 - accuracy: 0.6791 - val_loss: 1.0224 - val_accuracy: 0.6839 - 321ms/epoch - 13ms/step\n",
      "Epoch 23/30\n",
      "25/25 - 0s - loss: 0.9889 - accuracy: 0.6828 - val_loss: 0.9939 - val_accuracy: 0.6924 - 343ms/epoch - 14ms/step\n",
      "Epoch 24/30\n",
      "25/25 - 0s - loss: 0.9813 - accuracy: 0.6903 - val_loss: 0.9683 - val_accuracy: 0.7060 - 354ms/epoch - 14ms/step\n",
      "Epoch 25/30\n",
      "25/25 - 0s - loss: 0.9797 - accuracy: 0.6916 - val_loss: 0.9457 - val_accuracy: 0.7121 - 347ms/epoch - 14ms/step\n",
      "Epoch 26/30\n",
      "25/25 - 0s - loss: 0.9401 - accuracy: 0.7022 - val_loss: 0.9238 - val_accuracy: 0.7196 - 331ms/epoch - 13ms/step\n",
      "Epoch 27/30\n",
      "25/25 - 0s - loss: 0.9249 - accuracy: 0.7116 - val_loss: 0.9038 - val_accuracy: 0.7224 - 333ms/epoch - 13ms/step\n",
      "Epoch 28/30\n",
      "25/25 - 0s - loss: 0.8886 - accuracy: 0.7169 - val_loss: 0.8845 - val_accuracy: 0.7288 - 340ms/epoch - 14ms/step\n",
      "Epoch 29/30\n",
      "25/25 - 0s - loss: 0.8666 - accuracy: 0.7306 - val_loss: 0.8675 - val_accuracy: 0.7295 - 331ms/epoch - 13ms/step\n",
      "Epoch 30/30\n",
      "25/25 - 0s - loss: 0.8788 - accuracy: 0.7197 - val_loss: 0.8496 - val_accuracy: 0.7406 - 325ms/epoch - 13ms/step\n"
     ]
    }
   ],
   "source": [
    "# training\n",
    "history = model.fit(\n",
    "    x_train, y_train,\n",
    "    epochs = 30, \n",
    "    steps_per_epoch = 25,\n",
    "    batch_size=128, \n",
    "    verbose = 2 ,#tanpa animasi\n",
    "    validation_data=(x_test, y_test)\n",
    ")"
   ]
  },
  {
   "cell_type": "markdown",
   "id": "d63e1543-6e3a-45ea-8e40-de88877ebb9d",
   "metadata": {},
   "source": [
    "#### History Training"
   ]
  },
  {
   "cell_type": "code",
   "execution_count": 64,
   "id": "d604ef62-db07-4a60-b84d-63ecf9eaee74",
   "metadata": {},
   "outputs": [
    {
     "data": {
      "image/png": "[encoded data removed]",
      "text/plain": [
       "<Figure size 640x480 with 1 Axes>"
      ]
     },
     "metadata": {},
     "output_type": "display_data"
    }
   ],
   "source": [
    "nilai_x = range(len(history.history['accuracy']))\n",
    "plt.plot(nilai_x, history.history['accuracy'], label='Training')\n",
    "plt.plot(nilai_x, history.history['val_accuracy'], label='Validation')\n",
    "plt.legend()\n",
    "plt.show()"
   ]
  },
  {
   "cell_type": "markdown",
   "id": "48f5e53c-f0ef-4ac8-a5ac-67b3a87ae629",
   "metadata": {},
   "source": [
    "#### Evaluasi Model"
   ]
  },
  {
   "cell_type": "code",
   "execution_count": 65,
   "id": "8dcf0e3f-0db9-4fb4-a57d-8b07a3d8679a",
   "metadata": {},
   "outputs": [
    {
     "name": "stdout",
     "output_type": "stream",
     "text": [
      "313/313 [==============================] - 1s 3ms/step - loss: 0.8496 - accuracy: 0.7406\n"
     ]
    },
    {
     "data": {
      "text/plain": [
       "[0.8496052622795105, 0.7405999898910522]"
      ]
     },
     "execution_count": 65,
     "metadata": {},
     "output_type": "execute_result"
    }
   ],
   "source": [
    "model.evaluate(x_test, y_test)"
   ]
  },
  {
   "cell_type": "markdown",
   "id": "bb5ced0e-f352-47fb-a4e8-a651f612ffe7",
   "metadata": {},
   "source": [
    "#### Save Model"
   ]
  },
  {
   "cell_type": "code",
   "execution_count": 66,
   "id": "bd744dfb-f199-42c1-aeeb-6fafed1c68eb",
   "metadata": {},
   "outputs": [],
   "source": [
    "model.save('model/model.h5')"
   ]
  },
  {
   "cell_type": "code",
   "execution_count": 67,
   "id": "da75d233-3b70-4fce-a946-b46c71db26b3",
   "metadata": {},
   "outputs": [
    {
     "name": "stdout",
     "output_type": "stream",
     "text": [
      "Model: \"sequential_7\"\n",
      "_________________________________________________________________\n",
      " Layer (type)                Output Shape              Param #   \n",
      "=================================================================\n",
      " dense_19 (Dense)            (None, 32)                25120     \n",
      "                                                                 \n",
      " dense_20 (Dense)            (None, 32)                1056      \n",
      "                                                                 \n",
      " dense_21 (Dense)            (None, 10)                330       \n",
      "                                                                 \n",
      "=================================================================\n",
      "Total params: 26,506\n",
      "Trainable params: 26,506\n",
      "Non-trainable params: 0\n",
      "_________________________________________________________________\n"
     ]
    }
   ],
   "source": [
    "model_saved = tf.keras.models.load_model('model/model.h5')\n",
    "model_saved.summary()"
   ]
  },
  {
   "cell_type": "code",
   "execution_count": 68,
   "id": "f7a513bd-efbf-4963-b82a-146665562aef",
   "metadata": {},
   "outputs": [
    {
     "name": "stdout",
     "output_type": "stream",
     "text": [
      "313/313 [==============================] - 1s 2ms/step - loss: 0.8496 - accuracy: 0.7406\n"
     ]
    },
    {
     "data": {
      "text/plain": [
       "[0.8496052622795105, 0.7405999898910522]"
      ]
     },
     "execution_count": 68,
     "metadata": {},
     "output_type": "execute_result"
    }
   ],
   "source": [
    "model_saved.evaluate(x_test, y_test, batch_size=32)"
   ]
  },
  {
   "cell_type": "markdown",
   "id": "850634ce-3b67-4b89-b706-a1eec3f570fb",
   "metadata": {},
   "source": [
    "#### Prediksi Model"
   ]
  },
  {
   "cell_type": "code",
   "execution_count": 95,
   "id": "92040634-c833-4a1d-acf4-8d117175c19b",
   "metadata": {},
   "outputs": [
    {
     "name": "stdout",
     "output_type": "stream",
     "text": [
      "1875/1875 [==============================] - 4s 2ms/step\n"
     ]
    }
   ],
   "source": [
    "hasil = model_saved.predict(x_train)"
   ]
  },
  {
   "cell_type": "code",
   "execution_count": 96,
   "id": "fcc1d513-effe-4309-aaf3-9d16db806fd4",
   "metadata": {},
   "outputs": [
    {
     "data": {
      "text/plain": [
       "array([[6.1367196e-03, 1.0606468e-02, 5.5509377e-02, ..., 2.5020700e-03,\n",
       "        2.3264211e-01, 4.2668264e-03],\n",
       "       [8.5791981e-01, 2.6621683e-07, 9.8136766e-04, ..., 7.6658089e-06,\n",
       "        1.3690802e-02, 9.2780270e-04],\n",
       "       [5.2225515e-03, 5.5745374e-03, 9.5282408e-04, ..., 1.4916748e-01,\n",
       "        1.0728245e-01, 3.5084063e-01],\n",
       "       ...,\n",
       "       [1.7692527e-02, 1.7736155e-03, 7.7066373e-04, ..., 1.3121401e-01,\n",
       "        2.0255302e-01, 2.6182646e-01],\n",
       "       [2.0280735e-01, 2.2107724e-05, 3.2429576e-02, ..., 1.2297036e-05,\n",
       "        3.1235207e-02, 1.4755867e-03],\n",
       "       [4.1694693e-02, 3.5118011e-03, 1.3581441e-02, ..., 1.7199190e-02,\n",
       "        2.8572276e-01, 1.0285520e-01]], dtype=float32)"
      ]
     },
     "execution_count": 96,
     "metadata": {},
     "output_type": "execute_result"
    }
   ],
   "source": [
    "hasil"
   ]
  },
  {
   "cell_type": "code",
   "execution_count": 97,
   "id": "89d7d2ec-870e-43ef-bd55-1c893d556153",
   "metadata": {},
   "outputs": [
    {
     "data": {
      "text/plain": [
       "TensorShape([60000, 784])"
      ]
     },
     "execution_count": 97,
     "metadata": {},
     "output_type": "execute_result"
    }
   ],
   "source": [
    "x_train.shape"
   ]
  },
  {
   "cell_type": "code",
   "execution_count": 110,
   "id": "e3d0ea6d-5cfc-4bc3-a10d-e6b13bcfde7c",
   "metadata": {},
   "outputs": [
    {
     "data": {
      "text/plain": [
       "array([0.0000000e+00, 1.5378702e-05, 3.0757405e-05, 4.6136101e-05,\n",
       "       6.1514809e-05, 7.6893506e-05, 9.2272203e-05, 1.0765091e-04,\n",
       "       1.2302962e-04, 1.3840832e-04, 1.5378701e-04, 1.6916571e-04,\n",
       "       1.8454441e-04, 1.9992310e-04, 2.1530181e-04, 2.3068051e-04,\n",
       "       2.4605924e-04, 2.6143793e-04, 2.7681663e-04, 2.9219533e-04,\n",
       "       3.0757402e-04, 3.2295272e-04, 3.3833142e-04, 3.5371011e-04,\n",
       "       3.6908881e-04, 3.8446751e-04, 3.9984621e-04, 4.1522493e-04,\n",
       "       4.3060363e-04, 4.4598232e-04, 4.6136102e-04, 4.7673972e-04,\n",
       "       4.9211847e-04, 5.0749717e-04, 5.2287587e-04, 5.3825456e-04,\n",
       "       5.5363326e-04, 5.6901196e-04, 5.8439065e-04, 5.9976935e-04,\n",
       "       6.1514805e-04, 6.3052675e-04, 6.4590544e-04, 6.6128414e-04,\n",
       "       6.7666284e-04, 6.9204153e-04, 7.0742023e-04, 7.2279893e-04,\n",
       "       7.3817762e-04, 7.5355632e-04, 7.6893502e-04, 7.8431371e-04,\n",
       "       7.9969241e-04, 8.1507111e-04, 8.3044986e-04, 8.4582856e-04,\n",
       "       8.6120726e-04, 8.7658595e-04, 8.9196465e-04, 9.0734335e-04,\n",
       "       9.2272204e-04, 9.3810074e-04, 9.5347944e-04, 9.6885813e-04,\n",
       "       9.8423695e-04, 9.9961564e-04, 1.0149943e-03, 1.0303730e-03,\n",
       "       1.0457517e-03, 1.0611304e-03, 1.0765091e-03, 1.0918878e-03,\n",
       "       1.1072665e-03, 1.1226452e-03, 1.1380239e-03, 1.1534026e-03,\n",
       "       1.1687813e-03, 1.1841600e-03, 1.1995387e-03, 1.2149174e-03,\n",
       "       1.2302961e-03, 1.2456748e-03, 1.2610535e-03, 1.2764322e-03,\n",
       "       1.2918109e-03, 1.3071896e-03, 1.3225683e-03, 1.3379470e-03,\n",
       "       1.3533257e-03, 1.3687044e-03, 1.3840831e-03, 1.3994618e-03,\n",
       "       1.4148405e-03, 1.4302192e-03, 1.4455979e-03, 1.4609765e-03,\n",
       "       1.4763552e-03, 1.4917339e-03, 1.5071126e-03, 1.5224913e-03,\n",
       "       1.5378700e-03, 1.5532487e-03, 1.5686274e-03, 1.5840061e-03,\n",
       "       1.5993848e-03, 1.6147635e-03, 1.6301422e-03, 1.6455210e-03,\n",
       "       1.6608997e-03, 1.6762784e-03, 1.6916571e-03, 1.7070358e-03,\n",
       "       1.7224145e-03, 1.7377932e-03, 1.7531719e-03, 1.7685506e-03,\n",
       "       1.7839293e-03, 1.7993080e-03, 1.8146867e-03, 1.8300654e-03,\n",
       "       1.8454441e-03, 1.8608228e-03, 1.8762015e-03, 1.8915802e-03,\n",
       "       1.9069589e-03, 1.9223376e-03, 1.9377163e-03, 1.9530950e-03,\n",
       "       1.9684739e-03, 1.9838526e-03, 1.9992313e-03, 2.0146100e-03,\n",
       "       2.0299887e-03, 2.0453674e-03, 2.0607461e-03, 2.0761248e-03,\n",
       "       2.0915035e-03, 2.1068822e-03, 2.1222609e-03, 2.1376396e-03,\n",
       "       2.1530183e-03, 2.1683970e-03, 2.1837757e-03, 2.1991543e-03,\n",
       "       2.2145330e-03, 2.2299117e-03, 2.2452904e-03, 2.2606691e-03,\n",
       "       2.2760478e-03, 2.2914265e-03, 2.3068052e-03, 2.3221839e-03,\n",
       "       2.3375626e-03, 2.3529413e-03, 2.3683200e-03, 2.3836987e-03,\n",
       "       2.3990774e-03, 2.4144561e-03, 2.4298348e-03, 2.4452135e-03,\n",
       "       2.4605922e-03, 2.4759709e-03, 2.4913496e-03, 2.5067283e-03,\n",
       "       2.5221070e-03, 2.5374857e-03, 2.5528644e-03, 2.5682431e-03,\n",
       "       2.5836218e-03, 2.5990005e-03, 2.6143792e-03, 2.6297579e-03,\n",
       "       2.6451366e-03, 2.6605153e-03, 2.6758939e-03, 2.6912726e-03,\n",
       "       2.7066513e-03, 2.7220300e-03, 2.7374087e-03, 2.7527874e-03,\n",
       "       2.7681661e-03, 2.7835448e-03, 2.7989235e-03, 2.8143022e-03,\n",
       "       2.8296809e-03, 2.8450596e-03, 2.8604383e-03, 2.8758170e-03,\n",
       "       2.8911957e-03, 2.9065744e-03, 2.9219531e-03, 2.9373318e-03,\n",
       "       2.9527105e-03, 2.9680892e-03, 2.9834679e-03, 2.9988466e-03,\n",
       "       3.0142253e-03, 3.0296040e-03, 3.0449827e-03, 3.0603614e-03,\n",
       "       3.0757401e-03, 3.0911188e-03, 3.1064975e-03, 3.1218762e-03,\n",
       "       3.1372549e-03, 3.1526336e-03, 3.1680122e-03, 3.1833909e-03,\n",
       "       3.1987696e-03, 3.2141483e-03, 3.2295270e-03, 3.2449057e-03,\n",
       "       3.2602844e-03, 3.2756634e-03, 3.2910421e-03, 3.3064208e-03,\n",
       "       3.3217994e-03, 3.3371781e-03, 3.3525568e-03, 3.3679355e-03,\n",
       "       3.3833142e-03, 3.3986929e-03, 3.4140716e-03, 3.4294503e-03,\n",
       "       3.4448290e-03, 3.4602077e-03, 3.4755864e-03, 3.4909651e-03,\n",
       "       3.5063438e-03, 3.5217225e-03, 3.5371012e-03, 3.5524799e-03,\n",
       "       3.5678586e-03, 3.5832373e-03, 3.5986160e-03, 3.6139947e-03,\n",
       "       3.6293734e-03, 3.6447521e-03, 3.6601308e-03, 3.6755095e-03,\n",
       "       3.6908882e-03, 3.7062669e-03, 3.7216456e-03, 3.7370243e-03,\n",
       "       3.7524030e-03, 3.7677817e-03, 3.7831604e-03, 3.7985391e-03,\n",
       "       3.8139177e-03, 3.8292964e-03, 3.8446751e-03, 3.8600538e-03,\n",
       "       3.8754325e-03, 3.8908112e-03, 3.9061899e-03, 3.9215689e-03],\n",
       "      dtype=float32)"
      ]
     },
     "execution_count": 110,
     "metadata": {},
     "output_type": "execute_result"
    }
   ],
   "source": [
    "np.unique(x_train)"
   ]
  },
  {
   "cell_type": "code",
   "execution_count": 111,
   "id": "c64ed253-7d7a-413d-b916-031cd84fae65",
   "metadata": {},
   "outputs": [
    {
     "data": {
      "text/plain": [
       "(60000, 10)"
      ]
     },
     "execution_count": 111,
     "metadata": {},
     "output_type": "execute_result"
    }
   ],
   "source": [
    "hasil.shape"
   ]
  },
  {
   "cell_type": "code",
   "execution_count": 112,
   "id": "2cfbdfde-e2d5-4a9d-9be4-9cdc78b2e137",
   "metadata": {},
   "outputs": [
    {
     "data": {
      "text/plain": [
       "4"
      ]
     },
     "execution_count": 112,
     "metadata": {},
     "output_type": "execute_result"
    }
   ],
   "source": [
    "tf.argmax(hasil[22]).numpy()"
   ]
  },
  {
   "cell_type": "code",
   "execution_count": 113,
   "id": "dff4cde0-514b-43b1-b613-fc131803bbe4",
   "metadata": {},
   "outputs": [
    {
     "data": {
      "text/plain": [
       "array([0.0031726 , 0.01448799, 0.00228207, 0.00711556, 0.34794992,\n",
       "       0.06775513, 0.00784288, 0.11809027, 0.12542833, 0.3058752 ],\n",
       "      dtype=float32)"
      ]
     },
     "execution_count": 113,
     "metadata": {},
     "output_type": "execute_result"
    }
   ],
   "source": [
    "hasil[22]"
   ]
  },
  {
   "cell_type": "code",
   "execution_count": 126,
   "id": "334cff69-9435-4186-80ef-c603f416f19b",
   "metadata": {},
   "outputs": [
    {
     "ename": "TypeError",
     "evalue": "Invalid shape (784,) for image data",
     "output_type": "error",
     "traceback": [
      "\u001b[1;31m---------------------------------------------------------------------------\u001b[0m",
      "\u001b[1;31mTypeError\u001b[0m                                 Traceback (most recent call last)",
      "Cell \u001b[1;32mIn [126], line 1\u001b[0m\n\u001b[1;32m----> 1\u001b[0m \u001b[43mplt\u001b[49m\u001b[38;5;241;43m.\u001b[39;49m\u001b[43mimshow\u001b[49m\u001b[43m(\u001b[49m\u001b[43mx_test\u001b[49m\u001b[43m[\u001b[49m\u001b[43mi\u001b[49m\u001b[43m]\u001b[49m\u001b[43m)\u001b[49m\n",
      "File \u001b[1;32m~\\AppData\\Local\\Programs\\Python\\Python310\\lib\\site-packages\\matplotlib\\_api\\deprecation.py:454\u001b[0m, in \u001b[0;36mmake_keyword_only.<locals>.wrapper\u001b[1;34m(*args, **kwargs)\u001b[0m\n\u001b[0;32m    448\u001b[0m \u001b[38;5;28;01mif\u001b[39;00m \u001b[38;5;28mlen\u001b[39m(args) \u001b[38;5;241m>\u001b[39m name_idx:\n\u001b[0;32m    449\u001b[0m     warn_deprecated(\n\u001b[0;32m    450\u001b[0m         since, message\u001b[38;5;241m=\u001b[39m\u001b[38;5;124m\"\u001b[39m\u001b[38;5;124mPassing the \u001b[39m\u001b[38;5;132;01m%(name)s\u001b[39;00m\u001b[38;5;124m \u001b[39m\u001b[38;5;132;01m%(obj_type)s\u001b[39;00m\u001b[38;5;124m \u001b[39m\u001b[38;5;124m\"\u001b[39m\n\u001b[0;32m    451\u001b[0m         \u001b[38;5;124m\"\u001b[39m\u001b[38;5;124mpositionally is deprecated since Matplotlib \u001b[39m\u001b[38;5;132;01m%(since)s\u001b[39;00m\u001b[38;5;124m; the \u001b[39m\u001b[38;5;124m\"\u001b[39m\n\u001b[0;32m    452\u001b[0m         \u001b[38;5;124m\"\u001b[39m\u001b[38;5;124mparameter will become keyword-only \u001b[39m\u001b[38;5;132;01m%(removal)s\u001b[39;00m\u001b[38;5;124m.\u001b[39m\u001b[38;5;124m\"\u001b[39m,\n\u001b[0;32m    453\u001b[0m         name\u001b[38;5;241m=\u001b[39mname, obj_type\u001b[38;5;241m=\u001b[39m\u001b[38;5;124mf\u001b[39m\u001b[38;5;124m\"\u001b[39m\u001b[38;5;124mparameter of \u001b[39m\u001b[38;5;132;01m{\u001b[39;00mfunc\u001b[38;5;241m.\u001b[39m\u001b[38;5;18m__name__\u001b[39m\u001b[38;5;132;01m}\u001b[39;00m\u001b[38;5;124m()\u001b[39m\u001b[38;5;124m\"\u001b[39m)\n\u001b[1;32m--> 454\u001b[0m \u001b[38;5;28;01mreturn\u001b[39;00m func(\u001b[38;5;241m*\u001b[39margs, \u001b[38;5;241m*\u001b[39m\u001b[38;5;241m*\u001b[39mkwargs)\n",
      "File \u001b[1;32m~\\AppData\\Local\\Programs\\Python\\Python310\\lib\\site-packages\\matplotlib\\pyplot.py:2623\u001b[0m, in \u001b[0;36mimshow\u001b[1;34m(X, cmap, norm, aspect, interpolation, alpha, vmin, vmax, origin, extent, interpolation_stage, filternorm, filterrad, resample, url, data, **kwargs)\u001b[0m\n\u001b[0;32m   2617\u001b[0m \u001b[38;5;129m@_copy_docstring_and_deprecators\u001b[39m(Axes\u001b[38;5;241m.\u001b[39mimshow)\n\u001b[0;32m   2618\u001b[0m \u001b[38;5;28;01mdef\u001b[39;00m \u001b[38;5;21mimshow\u001b[39m(\n\u001b[0;32m   2619\u001b[0m         X, cmap\u001b[38;5;241m=\u001b[39m\u001b[38;5;28;01mNone\u001b[39;00m, norm\u001b[38;5;241m=\u001b[39m\u001b[38;5;28;01mNone\u001b[39;00m, aspect\u001b[38;5;241m=\u001b[39m\u001b[38;5;28;01mNone\u001b[39;00m, interpolation\u001b[38;5;241m=\u001b[39m\u001b[38;5;28;01mNone\u001b[39;00m,\n\u001b[0;32m   2620\u001b[0m         alpha\u001b[38;5;241m=\u001b[39m\u001b[38;5;28;01mNone\u001b[39;00m, vmin\u001b[38;5;241m=\u001b[39m\u001b[38;5;28;01mNone\u001b[39;00m, vmax\u001b[38;5;241m=\u001b[39m\u001b[38;5;28;01mNone\u001b[39;00m, origin\u001b[38;5;241m=\u001b[39m\u001b[38;5;28;01mNone\u001b[39;00m, extent\u001b[38;5;241m=\u001b[39m\u001b[38;5;28;01mNone\u001b[39;00m, \u001b[38;5;241m*\u001b[39m,\n\u001b[0;32m   2621\u001b[0m         interpolation_stage\u001b[38;5;241m=\u001b[39m\u001b[38;5;28;01mNone\u001b[39;00m, filternorm\u001b[38;5;241m=\u001b[39m\u001b[38;5;28;01mTrue\u001b[39;00m, filterrad\u001b[38;5;241m=\u001b[39m\u001b[38;5;241m4.0\u001b[39m,\n\u001b[0;32m   2622\u001b[0m         resample\u001b[38;5;241m=\u001b[39m\u001b[38;5;28;01mNone\u001b[39;00m, url\u001b[38;5;241m=\u001b[39m\u001b[38;5;28;01mNone\u001b[39;00m, data\u001b[38;5;241m=\u001b[39m\u001b[38;5;28;01mNone\u001b[39;00m, \u001b[38;5;241m*\u001b[39m\u001b[38;5;241m*\u001b[39mkwargs):\n\u001b[1;32m-> 2623\u001b[0m     __ret \u001b[38;5;241m=\u001b[39m gca()\u001b[38;5;241m.\u001b[39mimshow(\n\u001b[0;32m   2624\u001b[0m         X, cmap\u001b[38;5;241m=\u001b[39mcmap, norm\u001b[38;5;241m=\u001b[39mnorm, aspect\u001b[38;5;241m=\u001b[39maspect,\n\u001b[0;32m   2625\u001b[0m         interpolation\u001b[38;5;241m=\u001b[39minterpolation, alpha\u001b[38;5;241m=\u001b[39malpha, vmin\u001b[38;5;241m=\u001b[39mvmin,\n\u001b[0;32m   2626\u001b[0m         vmax\u001b[38;5;241m=\u001b[39mvmax, origin\u001b[38;5;241m=\u001b[39morigin, extent\u001b[38;5;241m=\u001b[39mextent,\n\u001b[0;32m   2627\u001b[0m         interpolation_stage\u001b[38;5;241m=\u001b[39minterpolation_stage,\n\u001b[0;32m   2628\u001b[0m         filternorm\u001b[38;5;241m=\u001b[39mfilternorm, filterrad\u001b[38;5;241m=\u001b[39mfilterrad, resample\u001b[38;5;241m=\u001b[39mresample,\n\u001b[0;32m   2629\u001b[0m         url\u001b[38;5;241m=\u001b[39murl, \u001b[38;5;241m*\u001b[39m\u001b[38;5;241m*\u001b[39m({\u001b[38;5;124m\"\u001b[39m\u001b[38;5;124mdata\u001b[39m\u001b[38;5;124m\"\u001b[39m: data} \u001b[38;5;28;01mif\u001b[39;00m data \u001b[38;5;129;01mis\u001b[39;00m \u001b[38;5;129;01mnot\u001b[39;00m \u001b[38;5;28;01mNone\u001b[39;00m \u001b[38;5;28;01melse\u001b[39;00m {}),\n\u001b[0;32m   2630\u001b[0m         \u001b[38;5;241m*\u001b[39m\u001b[38;5;241m*\u001b[39mkwargs)\n\u001b[0;32m   2631\u001b[0m     sci(__ret)\n\u001b[0;32m   2632\u001b[0m     \u001b[38;5;28;01mreturn\u001b[39;00m __ret\n",
      "File \u001b[1;32m~\\AppData\\Local\\Programs\\Python\\Python310\\lib\\site-packages\\matplotlib\\_api\\deprecation.py:454\u001b[0m, in \u001b[0;36mmake_keyword_only.<locals>.wrapper\u001b[1;34m(*args, **kwargs)\u001b[0m\n\u001b[0;32m    448\u001b[0m \u001b[38;5;28;01mif\u001b[39;00m \u001b[38;5;28mlen\u001b[39m(args) \u001b[38;5;241m>\u001b[39m name_idx:\n\u001b[0;32m    449\u001b[0m     warn_deprecated(\n\u001b[0;32m    450\u001b[0m         since, message\u001b[38;5;241m=\u001b[39m\u001b[38;5;124m\"\u001b[39m\u001b[38;5;124mPassing the \u001b[39m\u001b[38;5;132;01m%(name)s\u001b[39;00m\u001b[38;5;124m \u001b[39m\u001b[38;5;132;01m%(obj_type)s\u001b[39;00m\u001b[38;5;124m \u001b[39m\u001b[38;5;124m\"\u001b[39m\n\u001b[0;32m    451\u001b[0m         \u001b[38;5;124m\"\u001b[39m\u001b[38;5;124mpositionally is deprecated since Matplotlib \u001b[39m\u001b[38;5;132;01m%(since)s\u001b[39;00m\u001b[38;5;124m; the \u001b[39m\u001b[38;5;124m\"\u001b[39m\n\u001b[0;32m    452\u001b[0m         \u001b[38;5;124m\"\u001b[39m\u001b[38;5;124mparameter will become keyword-only \u001b[39m\u001b[38;5;132;01m%(removal)s\u001b[39;00m\u001b[38;5;124m.\u001b[39m\u001b[38;5;124m\"\u001b[39m,\n\u001b[0;32m    453\u001b[0m         name\u001b[38;5;241m=\u001b[39mname, obj_type\u001b[38;5;241m=\u001b[39m\u001b[38;5;124mf\u001b[39m\u001b[38;5;124m\"\u001b[39m\u001b[38;5;124mparameter of \u001b[39m\u001b[38;5;132;01m{\u001b[39;00mfunc\u001b[38;5;241m.\u001b[39m\u001b[38;5;18m__name__\u001b[39m\u001b[38;5;132;01m}\u001b[39;00m\u001b[38;5;124m()\u001b[39m\u001b[38;5;124m\"\u001b[39m)\n\u001b[1;32m--> 454\u001b[0m \u001b[38;5;28;01mreturn\u001b[39;00m func(\u001b[38;5;241m*\u001b[39margs, \u001b[38;5;241m*\u001b[39m\u001b[38;5;241m*\u001b[39mkwargs)\n",
      "File \u001b[1;32m~\\AppData\\Local\\Programs\\Python\\Python310\\lib\\site-packages\\matplotlib\\__init__.py:1423\u001b[0m, in \u001b[0;36m_preprocess_data.<locals>.inner\u001b[1;34m(ax, data, *args, **kwargs)\u001b[0m\n\u001b[0;32m   1420\u001b[0m \u001b[38;5;129m@functools\u001b[39m\u001b[38;5;241m.\u001b[39mwraps(func)\n\u001b[0;32m   1421\u001b[0m \u001b[38;5;28;01mdef\u001b[39;00m \u001b[38;5;21minner\u001b[39m(ax, \u001b[38;5;241m*\u001b[39margs, data\u001b[38;5;241m=\u001b[39m\u001b[38;5;28;01mNone\u001b[39;00m, \u001b[38;5;241m*\u001b[39m\u001b[38;5;241m*\u001b[39mkwargs):\n\u001b[0;32m   1422\u001b[0m     \u001b[38;5;28;01mif\u001b[39;00m data \u001b[38;5;129;01mis\u001b[39;00m \u001b[38;5;28;01mNone\u001b[39;00m:\n\u001b[1;32m-> 1423\u001b[0m         \u001b[38;5;28;01mreturn\u001b[39;00m func(ax, \u001b[38;5;241m*\u001b[39m\u001b[38;5;28mmap\u001b[39m(sanitize_sequence, args), \u001b[38;5;241m*\u001b[39m\u001b[38;5;241m*\u001b[39mkwargs)\n\u001b[0;32m   1425\u001b[0m     bound \u001b[38;5;241m=\u001b[39m new_sig\u001b[38;5;241m.\u001b[39mbind(ax, \u001b[38;5;241m*\u001b[39margs, \u001b[38;5;241m*\u001b[39m\u001b[38;5;241m*\u001b[39mkwargs)\n\u001b[0;32m   1426\u001b[0m     auto_label \u001b[38;5;241m=\u001b[39m (bound\u001b[38;5;241m.\u001b[39marguments\u001b[38;5;241m.\u001b[39mget(label_namer)\n\u001b[0;32m   1427\u001b[0m                   \u001b[38;5;129;01mor\u001b[39;00m bound\u001b[38;5;241m.\u001b[39mkwargs\u001b[38;5;241m.\u001b[39mget(label_namer))\n",
      "File \u001b[1;32m~\\AppData\\Local\\Programs\\Python\\Python310\\lib\\site-packages\\matplotlib\\axes\\_axes.py:5604\u001b[0m, in \u001b[0;36mAxes.imshow\u001b[1;34m(self, X, cmap, norm, aspect, interpolation, alpha, vmin, vmax, origin, extent, interpolation_stage, filternorm, filterrad, resample, url, **kwargs)\u001b[0m\n\u001b[0;32m   5596\u001b[0m \u001b[38;5;28mself\u001b[39m\u001b[38;5;241m.\u001b[39mset_aspect(aspect)\n\u001b[0;32m   5597\u001b[0m im \u001b[38;5;241m=\u001b[39m mimage\u001b[38;5;241m.\u001b[39mAxesImage(\u001b[38;5;28mself\u001b[39m, cmap\u001b[38;5;241m=\u001b[39mcmap, norm\u001b[38;5;241m=\u001b[39mnorm,\n\u001b[0;32m   5598\u001b[0m                       interpolation\u001b[38;5;241m=\u001b[39minterpolation, origin\u001b[38;5;241m=\u001b[39morigin,\n\u001b[0;32m   5599\u001b[0m                       extent\u001b[38;5;241m=\u001b[39mextent, filternorm\u001b[38;5;241m=\u001b[39mfilternorm,\n\u001b[0;32m   5600\u001b[0m                       filterrad\u001b[38;5;241m=\u001b[39mfilterrad, resample\u001b[38;5;241m=\u001b[39mresample,\n\u001b[0;32m   5601\u001b[0m                       interpolation_stage\u001b[38;5;241m=\u001b[39minterpolation_stage,\n\u001b[0;32m   5602\u001b[0m                       \u001b[38;5;241m*\u001b[39m\u001b[38;5;241m*\u001b[39mkwargs)\n\u001b[1;32m-> 5604\u001b[0m \u001b[43mim\u001b[49m\u001b[38;5;241;43m.\u001b[39;49m\u001b[43mset_data\u001b[49m\u001b[43m(\u001b[49m\u001b[43mX\u001b[49m\u001b[43m)\u001b[49m\n\u001b[0;32m   5605\u001b[0m im\u001b[38;5;241m.\u001b[39mset_alpha(alpha)\n\u001b[0;32m   5606\u001b[0m \u001b[38;5;28;01mif\u001b[39;00m im\u001b[38;5;241m.\u001b[39mget_clip_path() \u001b[38;5;129;01mis\u001b[39;00m \u001b[38;5;28;01mNone\u001b[39;00m:\n\u001b[0;32m   5607\u001b[0m     \u001b[38;5;66;03m# image does not already have clipping set, clip to axes patch\u001b[39;00m\n",
      "File \u001b[1;32m~\\AppData\\Local\\Programs\\Python\\Python310\\lib\\site-packages\\matplotlib\\image.py:710\u001b[0m, in \u001b[0;36m_ImageBase.set_data\u001b[1;34m(self, A)\u001b[0m\n\u001b[0;32m    706\u001b[0m     \u001b[38;5;28mself\u001b[39m\u001b[38;5;241m.\u001b[39m_A \u001b[38;5;241m=\u001b[39m \u001b[38;5;28mself\u001b[39m\u001b[38;5;241m.\u001b[39m_A[:, :, \u001b[38;5;241m0\u001b[39m]\n\u001b[0;32m    708\u001b[0m \u001b[38;5;28;01mif\u001b[39;00m \u001b[38;5;129;01mnot\u001b[39;00m (\u001b[38;5;28mself\u001b[39m\u001b[38;5;241m.\u001b[39m_A\u001b[38;5;241m.\u001b[39mndim \u001b[38;5;241m==\u001b[39m \u001b[38;5;241m2\u001b[39m\n\u001b[0;32m    709\u001b[0m         \u001b[38;5;129;01mor\u001b[39;00m \u001b[38;5;28mself\u001b[39m\u001b[38;5;241m.\u001b[39m_A\u001b[38;5;241m.\u001b[39mndim \u001b[38;5;241m==\u001b[39m \u001b[38;5;241m3\u001b[39m \u001b[38;5;129;01mand\u001b[39;00m \u001b[38;5;28mself\u001b[39m\u001b[38;5;241m.\u001b[39m_A\u001b[38;5;241m.\u001b[39mshape[\u001b[38;5;241m-\u001b[39m\u001b[38;5;241m1\u001b[39m] \u001b[38;5;129;01min\u001b[39;00m [\u001b[38;5;241m3\u001b[39m, \u001b[38;5;241m4\u001b[39m]):\n\u001b[1;32m--> 710\u001b[0m     \u001b[38;5;28;01mraise\u001b[39;00m \u001b[38;5;167;01mTypeError\u001b[39;00m(\u001b[38;5;124m\"\u001b[39m\u001b[38;5;124mInvalid shape \u001b[39m\u001b[38;5;132;01m{}\u001b[39;00m\u001b[38;5;124m for image data\u001b[39m\u001b[38;5;124m\"\u001b[39m\n\u001b[0;32m    711\u001b[0m                     \u001b[38;5;241m.\u001b[39mformat(\u001b[38;5;28mself\u001b[39m\u001b[38;5;241m.\u001b[39m_A\u001b[38;5;241m.\u001b[39mshape))\n\u001b[0;32m    713\u001b[0m \u001b[38;5;28;01mif\u001b[39;00m \u001b[38;5;28mself\u001b[39m\u001b[38;5;241m.\u001b[39m_A\u001b[38;5;241m.\u001b[39mndim \u001b[38;5;241m==\u001b[39m \u001b[38;5;241m3\u001b[39m:\n\u001b[0;32m    714\u001b[0m     \u001b[38;5;66;03m# If the input data has values outside the valid range (after\u001b[39;00m\n\u001b[0;32m    715\u001b[0m     \u001b[38;5;66;03m# normalisation), we issue a warning and then clip X to the bounds\u001b[39;00m\n\u001b[0;32m    716\u001b[0m     \u001b[38;5;66;03m# - otherwise casting wraps extreme values, hiding outliers and\u001b[39;00m\n\u001b[0;32m    717\u001b[0m     \u001b[38;5;66;03m# making reliable interpretation impossible.\u001b[39;00m\n\u001b[0;32m    718\u001b[0m     high \u001b[38;5;241m=\u001b[39m \u001b[38;5;241m255\u001b[39m \u001b[38;5;28;01mif\u001b[39;00m np\u001b[38;5;241m.\u001b[39missubdtype(\u001b[38;5;28mself\u001b[39m\u001b[38;5;241m.\u001b[39m_A\u001b[38;5;241m.\u001b[39mdtype, np\u001b[38;5;241m.\u001b[39minteger) \u001b[38;5;28;01melse\u001b[39;00m \u001b[38;5;241m1\u001b[39m\n",
      "\u001b[1;31mTypeError\u001b[0m: Invalid shape (784,) for image data"
     ]
    },
    {
     "data": {
      "image/png": "[encoded data removed]",
      "text/plain": [
       "<Figure size 640x480 with 1 Axes>"
      ]
     },
     "metadata": {},
     "output_type": "display_data"
    }
   ],
   "source": [
    "plt.imshow(x_test[i])"
   ]
  },
  {
   "cell_type": "code",
   "execution_count": null,
   "id": "a2571508-b0a9-45da-91be-939380b0e969",
   "metadata": {},
   "outputs": [],
   "source": []
  }
 ],
 "metadata": {
  "kernelspec": {
   "display_name": "Python 3 (ipykernel)",
   "language": "python",
   "name": "python3"
  },
  "language_info": {
   "codemirror_mode": {
    "name": "ipython",
    "version": 3
   },
   "file_extension": ".py",
   "mimetype": "text/x-python",
   "name": "python",
   "nbconvert_exporter": "python",
   "pygments_lexer": "ipython3",
   "version": "3.10.7"
  }
 },
 "nbformat": 4,
 "nbformat_minor": 5
}
