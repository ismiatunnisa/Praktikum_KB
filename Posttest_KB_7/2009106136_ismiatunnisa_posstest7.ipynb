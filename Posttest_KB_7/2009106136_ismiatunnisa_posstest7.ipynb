{
 "cells": [
  {
   "cell_type": "markdown",
   "id": "5f902b41-9770-4388-80d1-6b701fc54162",
   "metadata": {},
   "source": [
    "# Import Library"
   ]
  },
  {
   "cell_type": "code",
   "execution_count": 2,
   "id": "20ca80a7",
   "metadata": {},
   "outputs": [],
   "source": [
    "import tensorflow as tf\n",
    "import numpy as np"
   ]
  },
  {
   "cell_type": "markdown",
   "id": "35d7dfa1-f68b-4771-8256-8e372db3ae6a",
   "metadata": {},
   "source": [
    "# Membuat sebuah tensor dengan shape(5,5) dengan nilai random yang disimpan dalam variable random_tensor"
   ]
  },
  {
   "cell_type": "code",
   "execution_count": 3,
   "id": "6372eb7e",
   "metadata": {},
   "outputs": [
    {
     "data": {
      "text/plain": [
       "array([[-0.8113182 ,  1.4845988 ,  0.06532937, -2.4427042 ,  0.0992484 ],\n",
       "       [ 0.5912243 ,  0.59282297, -2.1229296 , -0.72289723, -0.05627038],\n",
       "       [ 0.6435448 , -0.26432407,  1.8566332 ,  0.5678417 , -0.3828359 ],\n",
       "       [-1.4853433 ,  1.2617711 , -0.02530608, -0.2646297 ,  1.5328138 ],\n",
       "       [-1.7429771 , -0.43789294, -0.56601   ,  0.32066926,  1.132831  ]],\n",
       "      dtype=float32)"
      ]
     },
     "execution_count": 3,
     "metadata": {},
     "output_type": "execute_result"
    }
   ],
   "source": [
    "rdm_tensor = tf.random.normal([5,5], mean=0., stddev=1., seed=1) #membuat tensor menggunakan tf.random.normal\n",
    "rdm_tensor.numpy()"
   ]
  },
  {
   "cell_type": "markdown",
   "id": "2a49bdea-2ffc-4422-ae23-1c4673c8c754",
   "metadata": {},
   "source": [
    "# Membuat sebuah tensor dengan shape(5,5) dari sebuah list dengan nilai bilangan prima dalam variable prime_tensor"
   ]
  },
  {
   "cell_type": "code",
   "execution_count": 4,
   "id": "f106a57a-59bc-4729-9875-9aa3a056d3fe",
   "metadata": {},
   "outputs": [
    {
     "data": {
      "text/plain": [
       "array([[19., 53.,  5.,  7., 13.],\n",
       "       [11., 17.,  2., 23., 59.],\n",
       "       [31., 37., 47., 43., 97.],\n",
       "       [ 3., 29., 61.,  1., 73.],\n",
       "       [79., 83., 89., 41., 71.]], dtype=float32)"
      ]
     },
     "execution_count": 4,
     "metadata": {},
     "output_type": "execute_result"
    }
   ],
   "source": [
    "list_bilprim = [[19, 53, 5, 7, 13],[11, 17, 2, 23, 59],[31, 37, 47, 43, 97],[3, 29, 61, 1, 73],[79, 83, 89, 41, 71]]\n",
    "bilprim_tensor = tf.constant(list_bilprim, dtype=tf.float32) #membuat tensor menggunakan tf.constant\n",
    "bilprim_tensor.numpy()"
   ]
  },
  {
   "cell_type": "markdown",
   "id": "96670ae1-c26f-43a5-88ee-ae9ad585f1e4",
   "metadata": {},
   "source": [
    "# Menampilkan dimensi dari kedua variable tersebut"
   ]
  },
  {
   "cell_type": "code",
   "execution_count": 5,
   "id": "fa5fa0ed-e8c8-439f-8313-6f1f6da872c6",
   "metadata": {},
   "outputs": [
    {
     "data": {
      "text/plain": [
       "TensorShape([5, 5])"
      ]
     },
     "execution_count": 5,
     "metadata": {},
     "output_type": "execute_result"
    }
   ],
   "source": [
    "rdm_tensor.shape #menampilkan dimensi dari variabel rdm_tensor menggunakan perintah shape"
   ]
  },
  {
   "cell_type": "code",
   "execution_count": 6,
   "id": "8610ecca-1793-414a-a594-bdefddd80d04",
   "metadata": {},
   "outputs": [
    {
     "data": {
      "text/plain": [
       "TensorShape([5, 5])"
      ]
     },
     "execution_count": 6,
     "metadata": {},
     "output_type": "execute_result"
    }
   ],
   "source": [
    "bilprim_tensor.shape #menampilkan dimensi dari variabel bilprim_tensor menggunakan perintah shape"
   ]
  },
  {
   "cell_type": "markdown",
   "id": "6cd796f0-5892-4349-aefa-29169406b9b4",
   "metadata": {},
   "source": [
    "# Menampilkan hasil dari perhitungan aritmetika 2 variable tersebut (Gunakan minimal 5 operator)"
   ]
  },
  {
   "cell_type": "code",
   "execution_count": 7,
   "id": "70898eb9-0e59-43bd-a367-eb575cf5eca9",
   "metadata": {},
   "outputs": [
    {
     "name": "stdout",
     "output_type": "stream",
     "text": [
      "Penjumlahan : tf.Tensor(\n",
      "[[18.188683   54.4846      5.0653296   4.557296   13.099248  ]\n",
      " [11.591225   17.592823   -0.12292957 22.277103   58.94373   ]\n",
      " [31.643545   36.735676   48.856632   43.56784    96.617165  ]\n",
      " [ 1.5146567  30.26177    60.974693    0.7353703  74.532814  ]\n",
      " [77.25702    82.5621     88.43399    41.32067    72.13283   ]], shape=(5, 5), dtype=float32)\n"
     ]
    }
   ],
   "source": [
    "print(\"Penjumlahan :\",tf.add(bilprim_tensor,rdm_tensor)) #perhitungan aritmetika penjumlahan menggunakan tf.add"
   ]
  },
  {
   "cell_type": "code",
   "execution_count": 8,
   "id": "4a8c7142-8d1f-4cc9-8eaa-306e37290e75",
   "metadata": {},
   "outputs": [
    {
     "name": "stdout",
     "output_type": "stream",
     "text": [
      "Pengurangan : tf.Tensor(\n",
      "[[19.811317  51.5154     4.9346704  9.442704  12.900752 ]\n",
      " [10.408775  16.407177   4.1229296 23.722897  59.05627  ]\n",
      " [30.356455  37.264324  45.143368  42.43216   97.382835 ]\n",
      " [ 4.4853435 27.73823   61.025307   1.2646297 71.467186 ]\n",
      " [80.74298   83.4379    89.56601   40.67933   69.86717  ]], shape=(5, 5), dtype=float32)\n"
     ]
    }
   ],
   "source": [
    "print(\"Pengurangan :\",tf.subtract(bilprim_tensor,rdm_tensor)) #perhitungan aritmetika penjumlahan menggunakan tf.subtract\n"
   ]
  },
  {
   "cell_type": "code",
   "execution_count": 9,
   "id": "5c54a14b-385b-428c-a7a1-396ac9fe7e95",
   "metadata": {},
   "outputs": [
    {
     "name": "stdout",
     "output_type": "stream",
     "text": [
      "Perkalian : tf.Tensor(\n",
      "[[ -15.415046     78.68373       0.32664686  -17.09893       1.2902292 ]\n",
      " [   6.5034676    10.077991     -4.245859    -16.626637     -3.3199525 ]\n",
      " [  19.949888     -9.77999      87.26176      24.417194    -37.135082  ]\n",
      " [  -4.45603      36.591362     -1.5436709    -0.2646297   111.89541   ]\n",
      " [-137.69519     -36.345116    -50.37489      13.14744      80.431     ]], shape=(5, 5), dtype=float32)\n"
     ]
    }
   ],
   "source": [
    "print(\"Perkalian :\",tf.multiply(bilprim_tensor,rdm_tensor)) #perhitungan aritmetika penjumlahan menggunakan tf.multiply"
   ]
  },
  {
   "cell_type": "code",
   "execution_count": 10,
   "id": "b74c0c66-1ca6-4106-adbb-40f5805e5e83",
   "metadata": {},
   "outputs": [
    {
     "name": "stdout",
     "output_type": "stream",
     "text": [
      "Pembagian : tf.Tensor(\n",
      "[[-2.3418678e+01  3.5699883e+01  7.6535255e+01 -2.8656764e+00\n",
      "   1.3098448e+02]\n",
      " [ 1.8605459e+01  2.8676352e+01 -9.4209439e-01 -3.1816418e+01\n",
      "  -1.0485090e+03]\n",
      " [ 4.8170696e+01 -1.3997969e+02  2.5314640e+01  7.5725327e+01\n",
      "  -2.5337227e+02]\n",
      " [-2.0197351e+00  2.2983566e+01 -2.4104880e+03 -3.7788653e+00\n",
      "   4.7624832e+01]\n",
      " [-4.5324749e+01 -1.8954405e+02 -1.5724104e+02  1.2785759e+02\n",
      "   6.2674839e+01]], shape=(5, 5), dtype=float32)\n"
     ]
    }
   ],
   "source": [
    "print(\"Pembagian :\",tf.divide(bilprim_tensor,rdm_tensor)) #perhitungan aritmetika penjumlahan menggunakan tf.divide"
   ]
  },
  {
   "cell_type": "code",
   "execution_count": 11,
   "id": "82eddc00-8060-4fe4-b24a-ed294cd6ce52",
   "metadata": {},
   "outputs": [
    {
     "name": "stdout",
     "output_type": "stream",
     "text": [
      "Pangkat : tf.Tensor(\n",
      "[[9.1732644e-02 3.6295920e+02 1.1108701e+00 8.6233392e-03 1.2899032e+00]\n",
      " [4.1275911e+00 5.3633776e+00 2.2958025e-01 1.0365988e-01 7.9497504e-01]\n",
      " [9.1150293e+00 3.8502288e-01 1.2719568e+03 8.4635296e+00 1.7353715e-01]\n",
      " [1.9557400e-01 7.0018288e+01 9.0119815e-01 1.0000000e+00 7.1800415e+02]\n",
      " [4.9258291e-04 1.4442728e-01 7.8818068e-02 3.2898054e+00 1.2507278e+02]], shape=(5, 5), dtype=float32)\n"
     ]
    }
   ],
   "source": [
    "print(\"Pangkat :\",tf.pow(bilprim_tensor,rdm_tensor)) #perhitungan aritmetika penjumlahan menggunakan tf.pow"
   ]
  },
  {
   "cell_type": "markdown",
   "id": "99c28f51-6d39-4f82-aefc-5954b278b925",
   "metadata": {},
   "source": [
    "# Menampilkan nilai maksimal dan minimal dari variable random_tensor"
   ]
  },
  {
   "cell_type": "code",
   "execution_count": 12,
   "id": "7ff9be9d-6245-4f98-8917-69c45aa4ea9b",
   "metadata": {},
   "outputs": [
    {
     "data": {
      "text/plain": [
       "array([1, 1, 2, 4, 4], dtype=int64)"
      ]
     },
     "execution_count": 12,
     "metadata": {},
     "output_type": "execute_result"
    }
   ],
   "source": [
    "tf.argmax(rdm_tensor, axis=1). numpy() #menampilkan nilai max dari kolom(axis=1) variabel rdm_tensor"
   ]
  },
  {
   "cell_type": "code",
   "execution_count": 13,
   "id": "82d77466-0bd2-4119-a2fe-f4687db29055",
   "metadata": {},
   "outputs": [
    {
     "data": {
      "text/plain": [
       "array([3, 2, 4, 0, 0], dtype=int64)"
      ]
     },
     "execution_count": 13,
     "metadata": {},
     "output_type": "execute_result"
    }
   ],
   "source": [
    "tf.argmin(rdm_tensor, axis=1). numpy() #menampilkan nilai min dari kolom(axis=1) variabel rdm_tensor"
   ]
  },
  {
   "cell_type": "code",
   "execution_count": 14,
   "id": "0a66d70e-1779-4189-9e2c-6193ae24b9f6",
   "metadata": {},
   "outputs": [
    {
     "data": {
      "text/plain": [
       "array([2, 0, 2, 2, 3], dtype=int64)"
      ]
     },
     "execution_count": 14,
     "metadata": {},
     "output_type": "execute_result"
    }
   ],
   "source": [
    "tf.argmax(rdm_tensor, axis=0). numpy() #menampilkan nilai max dari baris(axis=0) variabel rdm_tensor"
   ]
  },
  {
   "cell_type": "code",
   "execution_count": 15,
   "id": "642dbc6f-310b-4364-932c-32d425519931",
   "metadata": {},
   "outputs": [
    {
     "data": {
      "text/plain": [
       "array([4, 4, 1, 0, 2], dtype=int64)"
      ]
     },
     "execution_count": 15,
     "metadata": {},
     "output_type": "execute_result"
    }
   ],
   "source": [
    "tf.argmin(rdm_tensor, axis=0). numpy() #menampilkan nilai min dari baris(axis=0) variabel rdm_tensor"
   ]
  },
  {
   "cell_type": "markdown",
   "id": "646346f3-5621-49e9-8e96-53ef008e121e",
   "metadata": {},
   "source": [
    "# Menampilkan hasil dari penggabungan variable random_tensor dengan prime_tensor (concatenation)"
   ]
  },
  {
   "cell_type": "code",
   "execution_count": 16,
   "id": "d608b417-e1cb-4f42-9585-66b939d3456b",
   "metadata": {},
   "outputs": [
    {
     "data": {
      "text/plain": [
       "<tf.Tensor: shape=(5, 10), dtype=float32, numpy=\n",
       "array([[-8.1131822e-01,  1.4845988e+00,  6.5329373e-02, -2.4427042e+00,\n",
       "         9.9248402e-02,  1.9000000e+01,  5.3000000e+01,  5.0000000e+00,\n",
       "         7.0000000e+00,  1.3000000e+01],\n",
       "       [ 5.9122431e-01,  5.9282297e-01, -2.1229296e+00, -7.2289723e-01,\n",
       "        -5.6270380e-02,  1.1000000e+01,  1.7000000e+01,  2.0000000e+00,\n",
       "         2.3000000e+01,  5.9000000e+01],\n",
       "       [ 6.4354479e-01, -2.6432407e-01,  1.8566332e+00,  5.6784171e-01,\n",
       "        -3.8283589e-01,  3.1000000e+01,  3.7000000e+01,  4.7000000e+01,\n",
       "         4.3000000e+01,  9.7000000e+01],\n",
       "       [-1.4853433e+00,  1.2617711e+00, -2.5306080e-02, -2.6462969e-01,\n",
       "         1.5328138e+00,  3.0000000e+00,  2.9000000e+01,  6.1000000e+01,\n",
       "         1.0000000e+00,  7.3000000e+01],\n",
       "       [-1.7429771e+00, -4.3789294e-01, -5.6601000e-01,  3.2066926e-01,\n",
       "         1.1328310e+00,  7.9000000e+01,  8.3000000e+01,  8.9000000e+01,\n",
       "         4.1000000e+01,  7.1000000e+01]], dtype=float32)>"
      ]
     },
     "execution_count": 16,
     "metadata": {},
     "output_type": "execute_result"
    }
   ],
   "source": [
    "tf.concat([rdm_tensor, bilprim_tensor], axis=1) #penggabungan kolom dari 2 variabel menggunakan tf.concat "
   ]
  },
  {
   "cell_type": "code",
   "execution_count": 17,
   "id": "26b4589d-cd16-4978-856f-b7f8187513d8",
   "metadata": {},
   "outputs": [
    {
     "data": {
      "text/plain": [
       "<tf.Tensor: shape=(10, 5), dtype=float32, numpy=\n",
       "array([[-8.1131822e-01,  1.4845988e+00,  6.5329373e-02, -2.4427042e+00,\n",
       "         9.9248402e-02],\n",
       "       [ 5.9122431e-01,  5.9282297e-01, -2.1229296e+00, -7.2289723e-01,\n",
       "        -5.6270380e-02],\n",
       "       [ 6.4354479e-01, -2.6432407e-01,  1.8566332e+00,  5.6784171e-01,\n",
       "        -3.8283589e-01],\n",
       "       [-1.4853433e+00,  1.2617711e+00, -2.5306080e-02, -2.6462969e-01,\n",
       "         1.5328138e+00],\n",
       "       [-1.7429771e+00, -4.3789294e-01, -5.6601000e-01,  3.2066926e-01,\n",
       "         1.1328310e+00],\n",
       "       [ 1.9000000e+01,  5.3000000e+01,  5.0000000e+00,  7.0000000e+00,\n",
       "         1.3000000e+01],\n",
       "       [ 1.1000000e+01,  1.7000000e+01,  2.0000000e+00,  2.3000000e+01,\n",
       "         5.9000000e+01],\n",
       "       [ 3.1000000e+01,  3.7000000e+01,  4.7000000e+01,  4.3000000e+01,\n",
       "         9.7000000e+01],\n",
       "       [ 3.0000000e+00,  2.9000000e+01,  6.1000000e+01,  1.0000000e+00,\n",
       "         7.3000000e+01],\n",
       "       [ 7.9000000e+01,  8.3000000e+01,  8.9000000e+01,  4.1000000e+01,\n",
       "         7.1000000e+01]], dtype=float32)>"
      ]
     },
     "execution_count": 17,
     "metadata": {},
     "output_type": "execute_result"
    }
   ],
   "source": [
    "tf.concat([rdm_tensor, bilprim_tensor], axis=0) #penggabungan baris dari 2 variabel menggunakan tf.concat "
   ]
  },
  {
   "cell_type": "markdown",
   "id": "78b15a63-4cea-421a-8b9b-c89ec14c312e",
   "metadata": {},
   "source": [
    "# Menampilkan hasil sorting dari kedua variable di atas. (descending)"
   ]
  },
  {
   "cell_type": "code",
   "execution_count": 18,
   "id": "70a255bf-6a5e-4efa-a56e-d7988158adcf",
   "metadata": {},
   "outputs": [
    {
     "data": {
      "text/plain": [
       "array([[ 1.4845988 ,  0.0992484 ,  0.06532937, -0.8113182 , -2.4427042 ],\n",
       "       [ 0.59282297,  0.5912243 , -0.05627038, -0.72289723, -2.1229296 ],\n",
       "       [ 1.8566332 ,  0.6435448 ,  0.5678417 , -0.26432407, -0.3828359 ],\n",
       "       [ 1.5328138 ,  1.2617711 , -0.02530608, -0.2646297 , -1.4853433 ],\n",
       "       [ 1.132831  ,  0.32066926, -0.43789294, -0.56601   , -1.7429771 ]],\n",
       "      dtype=float32)"
      ]
     },
     "execution_count": 18,
     "metadata": {},
     "output_type": "execute_result"
    }
   ],
   "source": [
    "#sorting dari variabel rdm_tensor secara descending menggunakan tf.sort dan direction(perintah sorting) : descending\n",
    "sort_rdm_tensor1 = tf.sort(rdm_tensor, direction=\"DESCENDING\") \n",
    "sort_rdm_tensor1.numpy()"
   ]
  },
  {
   "cell_type": "code",
   "execution_count": 19,
   "id": "e5af2c9f-0e84-47ac-a3fd-aff7a7b73271",
   "metadata": {},
   "outputs": [
    {
     "data": {
      "text/plain": [
       "array([[53., 19., 13.,  7.,  5.],\n",
       "       [59., 23., 17., 11.,  2.],\n",
       "       [97., 47., 43., 37., 31.],\n",
       "       [73., 61., 29.,  3.,  1.],\n",
       "       [89., 83., 79., 71., 41.]], dtype=float32)"
      ]
     },
     "execution_count": 19,
     "metadata": {},
     "output_type": "execute_result"
    }
   ],
   "source": [
    "#sorting dari variabel bilprim_tensor secara descending menggunakan tf.sort dan direction(perintah sorting) : descending\n",
    "sort_bilprim_tensor1 = tf.sort(bilprim_tensor, direction=\"DESCENDING\")\n",
    "sort_bilprim_tensor1.numpy()"
   ]
  },
  {
   "cell_type": "code",
   "execution_count": 20,
   "id": "cb59a5dd-77e7-439f-9691-3a19e899cae8",
   "metadata": {},
   "outputs": [
    {
     "data": {
      "text/plain": [
       "array([[1, 4, 2, 0, 3],\n",
       "       [1, 0, 4, 3, 2],\n",
       "       [2, 0, 3, 1, 4],\n",
       "       [4, 1, 2, 3, 0],\n",
       "       [4, 3, 1, 2, 0]])"
      ]
     },
     "execution_count": 20,
     "metadata": {},
     "output_type": "execute_result"
    }
   ],
   "source": [
    "#variabel rdm_tensor\n",
    "#sorting secara descending menggunakan direction(perintah sorting) dan tf.argsort():Mengembalikan index dari tensornya\n",
    "sort_rdm_tensor2 = tf.argsort(rdm_tensor, direction=\"DESCENDING\") \n",
    "sort_rdm_tensor2.numpy()"
   ]
  },
  {
   "cell_type": "code",
   "execution_count": 21,
   "id": "0e8d2cd3-90bd-480a-aa90-0b3f2f06d525",
   "metadata": {},
   "outputs": [
    {
     "data": {
      "text/plain": [
       "array([[1, 0, 4, 3, 2],\n",
       "       [4, 3, 1, 0, 2],\n",
       "       [4, 2, 3, 1, 0],\n",
       "       [4, 2, 1, 0, 3],\n",
       "       [2, 1, 0, 4, 3]])"
      ]
     },
     "execution_count": 21,
     "metadata": {},
     "output_type": "execute_result"
    }
   ],
   "source": [
    "#variabel bilprim_tensor\n",
    "#sorting secara descending menggunakan direction(perintah sorting) dan tf.argsort():Mengembalikan index dari tensornya\n",
    "sort_bilprim_tensor2 = tf.argsort(bilprim_tensor, direction=\"DESCENDING\")\n",
    "sort_bilprim_tensor2.numpy()"
   ]
  }
 ],
 "metadata": {
  "kernelspec": {
   "display_name": "Python 3 (ipykernel)",
   "language": "python",
   "name": "python3"
  },
  "language_info": {
   "codemirror_mode": {
    "name": "ipython",
    "version": 3
   },
   "file_extension": ".py",
   "mimetype": "text/x-python",
   "name": "python",
   "nbconvert_exporter": "python",
   "pygments_lexer": "ipython3",
   "version": "3.10.7"
  }
 },
 "nbformat": 4,
 "nbformat_minor": 5
}
